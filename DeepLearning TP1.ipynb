{
 "cells": [
  {
   "cell_type": "markdown",
   "metadata": {},
   "source": [
    "# Deep Learning Homework Assignement 1"
   ]
  },
  {
   "cell_type": "markdown",
   "metadata": {},
   "source": [
    "## Simple Classification"
   ]
  },
  {
   "cell_type": "markdown",
   "metadata": {},
   "source": [
    "In the first task, we are going to use the code below that generates 3 geometrical shapes (triangle, rectangle and cercle). These shapes and their labels will be our data, then we are using a simple linear neural network to learn to classify the data. We start first with the code to generate the data."
   ]
  },
  {
   "cell_type": "code",
   "execution_count": 1,
   "metadata": {},
   "outputs": [
    {
     "name": "stderr",
     "output_type": "stream",
     "text": [
      "Using TensorFlow backend.\n"
     ]
    }
   ],
   "source": [
    "### Importing needed packages\n",
    "import matplotlib.pyplot as plt\n",
    "import numpy as np\n",
    "import keras as ks\n",
    "import matplotlib.patches as patches\n",
    "\n",
    "### Defining data generation functions\n",
    "def generate_a_drawing(figsize, U, V, noise=0.0):\n",
    "    fig = plt.figure(figsize=(figsize,figsize))\n",
    "    ax = plt.subplot(111)\n",
    "    plt.axis('Off')\n",
    "    ax.set_xlim(0,figsize)\n",
    "    ax.set_ylim(0,figsize)\n",
    "    ax.fill(U, V, \"k\")\n",
    "    fig.canvas.draw()\n",
    "    imdata = np.frombuffer(fig.canvas.tostring_rgb(), dtype=np.uint8)[::3].astype(np.float32)\n",
    "    imdata = imdata + noise * np.random.random(imdata.size)\n",
    "    plt.close(fig)\n",
    "    return imdata\n",
    "\n",
    "def generate_a_rectangle(noise=0.0, free_location=False):\n",
    "    figsize = 1.0    \n",
    "    U = np.zeros(4)\n",
    "    V = np.zeros(4)\n",
    "    if free_location:\n",
    "        corners = np.random.random(4)\n",
    "        top = max(corners[0], corners[1])\n",
    "        bottom = min(corners[0], corners[1])\n",
    "        left = min(corners[2], corners[3])\n",
    "        right = max(corners[2], corners[3])\n",
    "    else:\n",
    "        side = (0.3 + 0.7 * np.random.random()) * figsize\n",
    "        top = figsize/2 + side/2\n",
    "        bottom = figsize/2 - side/2\n",
    "        left = bottom\n",
    "        right = top\n",
    "    U[0] = U[1] = top\n",
    "    U[2] = U[3] = bottom\n",
    "    V[0] = V[3] = left\n",
    "    V[1] = V[2] = right\n",
    "    return generate_a_drawing(figsize, U, V, noise)\n",
    "\n",
    "\n",
    "def generate_a_disk(noise=0.0, free_location=False):\n",
    "    figsize = 1.0\n",
    "    if free_location:\n",
    "        center = np.random.random(2)\n",
    "    else:\n",
    "        center = (figsize/2, figsize/2)\n",
    "    radius = (0.3 + 0.7 * np.random.random()) * figsize/2\n",
    "    N = 50\n",
    "    U = np.zeros(N)\n",
    "    V = np.zeros(N)\n",
    "    i = 0\n",
    "    for t in np.linspace(0, 2*np.pi, N):\n",
    "        U[i] = center[0] + np.cos(t) * radius\n",
    "        V[i] = center[1] + np.sin(t) * radius\n",
    "        i = i + 1\n",
    "    return generate_a_drawing(figsize, U, V, noise)\n",
    "\n",
    "def generate_a_triangle(noise=0.0, free_location=False):\n",
    "    figsize = 1.0\n",
    "    if free_location:\n",
    "        U = np.random.random(3)\n",
    "        V = np.random.random(3)\n",
    "    else:\n",
    "        size = (0.3 + 0.7 * np.random.random())*figsize/2\n",
    "        middle = figsize/2\n",
    "        U = (middle, middle+size, middle-size)\n",
    "        V = (middle+size, middle-size, middle-size)\n",
    "    imdata = generate_a_drawing(figsize, U, V, noise)\n",
    "    return [imdata, [U[0], V[0], U[1], V[1], U[2], V[2]]]\n",
    "\n",
    "\n",
    "def generate_dataset_classification(nb_samples, noise=0.0, free_location=False):\n",
    "    # Getting im_size:\n",
    "    im_size = generate_a_rectangle().shape[0]\n",
    "    X = np.zeros([nb_samples,im_size])\n",
    "    Y = np.zeros(nb_samples)\n",
    "    print('Creating data:')\n",
    "    for i in range(nb_samples):\n",
    "        #if i % 10 == 0:\n",
    "            #print(i)\n",
    "        category = np.random.randint(3)\n",
    "        if category == 0:\n",
    "            X[i] = generate_a_rectangle(noise, free_location)\n",
    "        elif category == 1: \n",
    "            X[i] = generate_a_disk(noise, free_location)\n",
    "        else:\n",
    "            [X[i], V] = generate_a_triangle(noise, free_location)\n",
    "        Y[i] = category\n",
    "    X = (X + noise) / (255 + 2 * noise)\n",
    "    return [X, Y]\n",
    "\n",
    "\n",
    "def generate_test_set_classification():\n",
    "    np.random.seed(42)\n",
    "    [X_test, Y_test] = generate_dataset_classification(300, 20, True)\n",
    "    Y_test = np_utils.to_categorical(Y_test, 3) \n",
    "    return [X_test, Y_test]\n",
    "\n",
    "\n",
    "def generate_dataset_regression(nb_samples, noise=0.0):\n",
    "    # Getting im_size:\n",
    "    im_size = generate_a_triangle()[0].shape[0]\n",
    "    X = np.zeros([nb_samples,im_size])\n",
    "    Y = np.zeros([nb_samples, 6])\n",
    "    #print('Creating data:')\n",
    "    for i in range(nb_samples):\n",
    "        #if i % 10 == 0:\n",
    "            #print(i)\n",
    "        [X[i], Y[i]] = generate_a_triangle(noise, True)\n",
    "    X = (X + noise) / (255 + 2 * noise)\n",
    "    return [X, Y]\n",
    "\n",
    "\n",
    "def visualize_prediction(x, y):\n",
    "    fig, ax = plt.subplots(figsize=(5, 5))\n",
    "    I = x.reshape((72,72))\n",
    "    ax.imshow(I, extent=[-0.15,1.15,-0.15,1.15],cmap='gray')\n",
    "    ax.set_xlim([0,1])\n",
    "    ax.set_ylim([0,1])\n",
    "\n",
    "    xy = y.reshape(3,2)\n",
    "    tri = patches.Polygon(xy, closed=True, fill = False, edgecolor = 'r', linewidth = 5, alpha = 0.5)\n",
    "    ax.add_patch(tri)\n",
    "\n",
    "    plt.show()\n",
    "\n",
    "def generate_test_set_regression():\n",
    "    np.random.seed(42)\n",
    "    [X_test, Y_test] = generate_dataset_regression(300, 20)\n",
    "    return [X_test, Y_test]\n"
   ]
  },
  {
   "cell_type": "markdown",
   "metadata": {},
   "source": [
    "For example, we have the following images."
   ]
  },
  {
   "cell_type": "code",
   "execution_count": 2,
   "metadata": {},
   "outputs": [
    {
     "data": {
      "text/plain": [
       "<matplotlib.image.AxesImage at 0x1b87cc53c88>"
      ]
     },
     "execution_count": 2,
     "metadata": {},
     "output_type": "execute_result"
    },
    {
     "data": {
      "image/png": "[encoded data removed]",
      "text/plain": [
       "<Figure size 432x288 with 1 Axes>"
      ]
     },
     "metadata": {
      "needs_background": "light"
     },
     "output_type": "display_data"
    }
   ],
   "source": [
    "IMAGE_SIZE = 72\n",
    "im = generate_a_rectangle(10, True)\n",
    "plt.imshow(im.reshape(IMAGE_SIZE,IMAGE_SIZE), cmap='gray')\n",
    "\n",
    "im = generate_a_disk(10)\n",
    "plt.imshow(im.reshape(IMAGE_SIZE,IMAGE_SIZE), cmap='gray')\n",
    "\n",
    "[im, v] = generate_a_triangle(20, False)\n",
    "plt.imshow(im.reshape(IMAGE_SIZE,IMAGE_SIZE), cmap='gray')"
   ]
  },
  {
   "cell_type": "markdown",
   "metadata": {},
   "source": [
    "Using these functions, we create our dataset for classification. It is important to convert the labels to categorical variables before using the data to train the neural network"
   ]
  },
  {
   "cell_type": "code",
   "execution_count": 3,
   "metadata": {},
   "outputs": [
    {
     "name": "stdout",
     "output_type": "stream",
     "text": [
      "Creating data:\n",
      "[1. 0. 0.]\n",
      "[1. 0. 0.]\n",
      "[0. 1. 0.]\n"
     ]
    },
    {
     "data": {
      "image/png": "[encoded data removed]",
      "text/plain": [
       "<Figure size 432x288 with 1 Axes>"
      ]
     },
     "metadata": {
      "needs_background": "light"
     },
     "output_type": "display_data"
    }
   ],
   "source": [
    "[X_train, Y_train] = generate_dataset_classification(300, 20);\n",
    "from keras.utils import np_utils\n",
    "Y_train = np_utils.to_categorical(Y_train, 3) ### 3 classes \n",
    "plt.imshow(X_train[206].reshape(IMAGE_SIZE,IMAGE_SIZE), cmap='gray')\n",
    "print(Y_train[206]) \n",
    "plt.imshow(X_train[1].reshape(IMAGE_SIZE,IMAGE_SIZE), cmap='gray')\n",
    "print(Y_train[1]) \n",
    "plt.imshow(X_train[15].reshape(IMAGE_SIZE,IMAGE_SIZE), cmap='gray')\n",
    "print(Y_train[15])"
   ]
  },
  {
   "cell_type": "markdown",
   "metadata": {},
   "source": [
    "We start by building a stochastic gradient descent classifier. We use a function to plot the historical loss for each epoch. The result is as in the following."
   ]
  },
  {
   "cell_type": "code",
   "execution_count": 4,
   "metadata": {},
   "outputs": [],
   "source": [
    "from keras.models import Sequential \n",
    "from keras.layers import Dense, Activation, Flatten\n",
    "from keras.optimizers import SGD \n",
    "\n",
    "def loss_history(results):    \n",
    "    # history for loss\n",
    "    plt.plot(results.history['loss'])\n",
    "    plt.plot(results.history['val_loss'])\n",
    "    plt.title('model loss')\n",
    "    plt.ylabel('loss')\n",
    "    plt.xlabel('epoch')\n",
    "    plt.legend(['train', 'test'], loc='upper left')\n",
    "    plt.show()\n",
    "    \n",
    "def classifieur_SGD(X_train, Y_train, X_test):\n",
    "    nb_neurons = 3 \n",
    "    model = Sequential([Dense(nb_neurons, input_shape=(IMAGE_SIZE*IMAGE_SIZE,))])\n",
    "    model.add(Dense(3))\n",
    "    model.add(Activation('softmax'))\n",
    "    sgd = SGD(lr=0.00001, decay=1e-6, momentum=0.9, nesterov=True)\n",
    "    model.compile(loss='categorical_crossentropy', optimizer=sgd, metrics = ['accuracy'])\n",
    "    results = model.fit(X_train, Y_train, epochs=30, validation_split=0.3,batch_size=32)\n",
    "    loss_history(results)\n",
    "    Y_pred = model.predict(X_test)\n",
    "    weights=model.get_weights()\n",
    "    return(Y_pred, weights)"
   ]
  },
  {
   "cell_type": "code",
   "execution_count": 5,
   "metadata": {},
   "outputs": [
    {
     "name": "stdout",
     "output_type": "stream",
     "text": [
      "Train on 210 samples, validate on 90 samples\n",
      "Epoch 1/30\n",
      "210/210 [==============================] - 0s 806us/step - loss: 1.1310 - acc: 0.3429 - val_loss: 1.0888 - val_acc: 0.3667\n",
      "Epoch 2/30\n",
      "210/210 [==============================] - 0s 149us/step - loss: 1.0844 - acc: 0.3476 - val_loss: 1.0522 - val_acc: 0.4000\n",
      "Epoch 3/30\n",
      "210/210 [==============================] - 0s 74us/step - loss: 1.0501 - acc: 0.3571 - val_loss: 1.0361 - val_acc: 0.3222\n",
      "Epoch 4/30\n",
      "210/210 [==============================] - 0s 149us/step - loss: 1.0340 - acc: 0.3714 - val_loss: 1.0326 - val_acc: 0.4444\n",
      "Epoch 5/30\n",
      "210/210 [==============================] - 0s 105us/step - loss: 1.0275 - acc: 0.4714 - val_loss: 1.0290 - val_acc: 0.4667\n",
      "Epoch 6/30\n",
      "210/210 [==============================] - 0s 74us/step - loss: 1.0232 - acc: 0.4810 - val_loss: 1.0245 - val_acc: 0.4778\n",
      "Epoch 7/30\n",
      "210/210 [==============================] - 0s 149us/step - loss: 1.0173 - acc: 0.4810 - val_loss: 1.0174 - val_acc: 0.4667\n",
      "Epoch 8/30\n",
      "210/210 [==============================] - 0s 124us/step - loss: 1.0112 - acc: 0.4905 - val_loss: 1.0118 - val_acc: 0.4667\n",
      "Epoch 9/30\n",
      "210/210 [==============================] - 0s 229us/step - loss: 1.0062 - acc: 0.4952 - val_loss: 1.0065 - val_acc: 0.4778\n",
      "Epoch 10/30\n",
      "210/210 [==============================] - 0s 208us/step - loss: 1.0003 - acc: 0.5048 - val_loss: 1.0017 - val_acc: 0.4667\n",
      "Epoch 11/30\n",
      "210/210 [==============================] - 0s 197us/step - loss: 0.9958 - acc: 0.5095 - val_loss: 0.9972 - val_acc: 0.4778\n",
      "Epoch 12/30\n",
      "210/210 [==============================] - 0s 171us/step - loss: 0.9907 - acc: 0.5190 - val_loss: 0.9929 - val_acc: 0.4889\n",
      "Epoch 13/30\n",
      "210/210 [==============================] - 0s 201us/step - loss: 0.9856 - acc: 0.5381 - val_loss: 0.9889 - val_acc: 0.5000\n",
      "Epoch 14/30\n",
      "210/210 [==============================] - 0s 176us/step - loss: 0.9811 - acc: 0.5429 - val_loss: 0.9850 - val_acc: 0.5111\n",
      "Epoch 15/30\n",
      "210/210 [==============================] - 0s 151us/step - loss: 0.9765 - acc: 0.5476 - val_loss: 0.9815 - val_acc: 0.5333\n",
      "Epoch 16/30\n",
      "210/210 [==============================] - 0s 152us/step - loss: 0.9722 - acc: 0.5619 - val_loss: 0.9779 - val_acc: 0.5333\n",
      "Epoch 17/30\n",
      "210/210 [==============================] - 0s 180us/step - loss: 0.9674 - acc: 0.5619 - val_loss: 0.9730 - val_acc: 0.5333\n",
      "Epoch 18/30\n",
      "210/210 [==============================] - 0s 202us/step - loss: 0.9626 - acc: 0.5667 - val_loss: 0.9688 - val_acc: 0.5333\n",
      "Epoch 19/30\n",
      "210/210 [==============================] - 0s 178us/step - loss: 0.9586 - acc: 0.5714 - val_loss: 0.9641 - val_acc: 0.5444\n",
      "Epoch 20/30\n",
      "210/210 [==============================] - 0s 171us/step - loss: 0.9541 - acc: 0.5762 - val_loss: 0.9603 - val_acc: 0.5444\n",
      "Epoch 21/30\n",
      "210/210 [==============================] - 0s 152us/step - loss: 0.9504 - acc: 0.5857 - val_loss: 0.9564 - val_acc: 0.5444\n",
      "Epoch 22/30\n",
      "210/210 [==============================] - 0s 260us/step - loss: 0.9457 - acc: 0.5810 - val_loss: 0.9531 - val_acc: 0.5444\n",
      "Epoch 23/30\n",
      "210/210 [==============================] - 0s 218us/step - loss: 0.9414 - acc: 0.5810 - val_loss: 0.9494 - val_acc: 0.5444\n",
      "Epoch 24/30\n",
      "210/210 [==============================] - 0s 181us/step - loss: 0.9378 - acc: 0.5857 - val_loss: 0.9453 - val_acc: 0.5667\n",
      "Epoch 25/30\n",
      "210/210 [==============================] - 0s 173us/step - loss: 0.9338 - acc: 0.5952 - val_loss: 0.9421 - val_acc: 0.5556\n",
      "Epoch 26/30\n",
      "210/210 [==============================] - 0s 184us/step - loss: 0.9295 - acc: 0.5952 - val_loss: 0.9381 - val_acc: 0.5667\n",
      "Epoch 27/30\n",
      "210/210 [==============================] - 0s 171us/step - loss: 0.9258 - acc: 0.6000 - val_loss: 0.9344 - val_acc: 0.5667\n",
      "Epoch 28/30\n",
      "210/210 [==============================] - 0s 171us/step - loss: 0.9219 - acc: 0.6143 - val_loss: 0.9309 - val_acc: 0.5778\n",
      "Epoch 29/30\n",
      "210/210 [==============================] - 0s 210us/step - loss: 0.9185 - acc: 0.6048 - val_loss: 0.9277 - val_acc: 0.5667\n",
      "Epoch 30/30\n",
      "210/210 [==============================] - 0s 163us/step - loss: 0.9148 - acc: 0.6095 - val_loss: 0.9240 - val_acc: 0.5889\n"
     ]
    },
    {
     "data": {
      "image/png": "[encoded data removed]",
      "text/plain": [
       "<Figure size 432x288 with 1 Axes>"
      ]
     },
     "metadata": {
      "needs_background": "light"
     },
     "output_type": "display_data"
    },
    {
     "name": "stdout",
     "output_type": "stream",
     "text": [
      "[0. 1. 0.]\n"
     ]
    }
   ],
   "source": [
    "X_test = generate_a_disk()\n",
    "X_test = X_test.reshape(1, X_test.shape[0])\n",
    "Y_pred, WSGD = classifieur_SGD(X_train, Y_train, X_test)\n",
    "print(max(Y_pred))"
   ]
  },
  {
   "cell_type": "markdown",
   "metadata": {},
   "source": [
    "We now use the Adam optimizer. The adam optimizer usually leads to better results than stochastic gradient descent. For example, stochastic gradient descent fails to update when it gets to a cost function plateau. As adam combines previous steps with current gradient step, the problem is not encountered. "
   ]
  },
  {
   "cell_type": "code",
   "execution_count": 6,
   "metadata": {},
   "outputs": [
    {
     "name": "stdout",
     "output_type": "stream",
     "text": [
      "Train on 210 samples, validate on 90 samples\n",
      "Epoch 1/30\n",
      "210/210 [==============================] - 0s 900us/step - loss: 1.5557 - acc: 0.3190 - val_loss: 1.4944 - val_acc: 0.3667\n",
      "Epoch 2/30\n",
      "210/210 [==============================] - 0s 210us/step - loss: 1.3485 - acc: 0.3714 - val_loss: 0.9002 - val_acc: 0.7556\n",
      "Epoch 3/30\n",
      "210/210 [==============================] - 0s 278us/step - loss: 0.9560 - acc: 0.6619 - val_loss: 0.8406 - val_acc: 0.7111\n",
      "Epoch 4/30\n",
      "210/210 [==============================] - 0s 175us/step - loss: 0.7607 - acc: 0.7143 - val_loss: 0.7107 - val_acc: 0.7889\n",
      "Epoch 5/30\n",
      "210/210 [==============================] - 0s 172us/step - loss: 0.7172 - acc: 0.7905 - val_loss: 0.7348 - val_acc: 0.6444\n",
      "Epoch 6/30\n",
      "210/210 [==============================] - 0s 171us/step - loss: 0.6493 - acc: 0.7190 - val_loss: 0.6337 - val_acc: 0.7667\n",
      "Epoch 7/30\n",
      "210/210 [==============================] - 0s 190us/step - loss: 0.5334 - acc: 0.8190 - val_loss: 0.5580 - val_acc: 0.7333\n",
      "Epoch 8/30\n",
      "210/210 [==============================] - 0s 131us/step - loss: 0.4589 - acc: 0.8714 - val_loss: 0.4620 - val_acc: 0.8889\n",
      "Epoch 9/30\n",
      "210/210 [==============================] - 0s 193us/step - loss: 0.4666 - acc: 0.8762 - val_loss: 0.4783 - val_acc: 0.7889\n",
      "Epoch 10/30\n",
      "210/210 [==============================] - 0s 151us/step - loss: 0.4325 - acc: 0.8476 - val_loss: 0.4997 - val_acc: 0.7111\n",
      "Epoch 11/30\n",
      "210/210 [==============================] - 0s 185us/step - loss: 0.3739 - acc: 0.9095 - val_loss: 0.4279 - val_acc: 0.8778\n",
      "Epoch 12/30\n",
      "210/210 [==============================] - 0s 180us/step - loss: 0.3779 - acc: 0.9238 - val_loss: 0.3330 - val_acc: 0.9111\n",
      "Epoch 13/30\n",
      "210/210 [==============================] - 0s 161us/step - loss: 0.3297 - acc: 0.9048 - val_loss: 0.3687 - val_acc: 0.9333\n",
      "Epoch 14/30\n",
      "210/210 [==============================] - 0s 242us/step - loss: 0.3193 - acc: 0.9381 - val_loss: 0.3281 - val_acc: 0.8889\n",
      "Epoch 15/30\n",
      "210/210 [==============================] - 0s 178us/step - loss: 0.2819 - acc: 0.9762 - val_loss: 0.2698 - val_acc: 0.9444\n",
      "Epoch 16/30\n",
      "210/210 [==============================] - 0s 201us/step - loss: 0.2729 - acc: 0.9190 - val_loss: 0.3113 - val_acc: 0.9889\n",
      "Epoch 17/30\n",
      "210/210 [==============================] - 0s 190us/step - loss: 0.2455 - acc: 0.9810 - val_loss: 0.2902 - val_acc: 0.9000\n",
      "Epoch 18/30\n",
      "210/210 [==============================] - 0s 153us/step - loss: 0.2689 - acc: 0.9190 - val_loss: 0.2469 - val_acc: 1.0000\n",
      "Epoch 19/30\n",
      "210/210 [==============================] - 0s 170us/step - loss: 0.2274 - acc: 0.9333 - val_loss: 0.2234 - val_acc: 1.0000\n",
      "Epoch 20/30\n",
      "210/210 [==============================] - 0s 152us/step - loss: 0.2103 - acc: 0.9810 - val_loss: 0.2086 - val_acc: 0.9444\n",
      "Epoch 21/30\n",
      "210/210 [==============================] - 0s 185us/step - loss: 0.1898 - acc: 0.9667 - val_loss: 0.2225 - val_acc: 1.0000\n",
      "Epoch 22/30\n",
      "210/210 [==============================] - 0s 218us/step - loss: 0.1816 - acc: 0.9714 - val_loss: 0.1948 - val_acc: 0.9333\n",
      "Epoch 23/30\n",
      "210/210 [==============================] - 0s 171us/step - loss: 0.1868 - acc: 0.9810 - val_loss: 0.1844 - val_acc: 0.9444\n",
      "Epoch 24/30\n",
      "210/210 [==============================] - 0s 229us/step - loss: 0.1813 - acc: 0.9476 - val_loss: 0.1747 - val_acc: 1.0000\n",
      "Epoch 25/30\n",
      "210/210 [==============================] - 0s 219us/step - loss: 0.1549 - acc: 1.0000 - val_loss: 0.1671 - val_acc: 0.9556\n",
      "Epoch 26/30\n",
      "210/210 [==============================] - 0s 248us/step - loss: 0.1533 - acc: 0.9619 - val_loss: 0.1715 - val_acc: 1.0000\n",
      "Epoch 27/30\n",
      "210/210 [==============================] - 0s 171us/step - loss: 0.1609 - acc: 0.9619 - val_loss: 0.1741 - val_acc: 1.0000\n",
      "Epoch 28/30\n",
      "210/210 [==============================] - 0s 235us/step - loss: 0.1498 - acc: 0.9905 - val_loss: 0.1452 - val_acc: 0.9778\n",
      "Epoch 29/30\n",
      "210/210 [==============================] - 0s 229us/step - loss: 0.1333 - acc: 1.0000 - val_loss: 0.1445 - val_acc: 0.9667\n",
      "Epoch 30/30\n",
      "210/210 [==============================] - 0s 239us/step - loss: 0.1414 - acc: 0.9714 - val_loss: 0.1416 - val_acc: 1.0000\n"
     ]
    },
    {
     "data": {
      "image/png": "[encoded data removed]",
      "text/plain": [
       "<Figure size 432x288 with 1 Axes>"
      ]
     },
     "metadata": {
      "needs_background": "light"
     },
     "output_type": "display_data"
    }
   ],
   "source": [
    "from keras.optimizers import Adam \n",
    "\n",
    "def classifieur_Adam(X_train, Y_train, X_test):\n",
    "    nb_neurons = 3 \n",
    "    model = Sequential([Dense(nb_neurons, input_shape=(IMAGE_SIZE*IMAGE_SIZE,))])\n",
    "    model.add(Dense(3))\n",
    "    model.add(Activation('softmax'))\n",
    "    adam=Adam(lr=0.0005)\n",
    "    model.compile(loss='categorical_crossentropy', optimizer=adam, metrics = ['accuracy'])\n",
    "    results = model.fit(X_train, Y_train, epochs=30, validation_split=0.3,batch_size=32)\n",
    "    loss_history(results)\n",
    "    Y_pred = model.predict(X_test)\n",
    "    weights=model.get_weights()\n",
    "    return(Y_pred, weights)\n",
    "    return(Y_pred, weights)\n",
    "Y_pred, WADAM = classifieur_Adam(X_train, Y_train, X_test)"
   ]
  },
  {
   "cell_type": "markdown",
   "metadata": {},
   "source": [
    "We indeed notice that the accuracy with this optimizer is much higher"
   ]
  },
  {
   "cell_type": "markdown",
   "metadata": {},
   "source": [
    "## Weight Visualisation"
   ]
  },
  {
   "cell_type": "markdown",
   "metadata": {},
   "source": [
    "The neural network's final classification is based on the last layer's weights. We can visualize them very easily using plt plots."
   ]
  },
  {
   "cell_type": "code",
   "execution_count": 7,
   "metadata": {},
   "outputs": [
    {
     "data": {
      "image/png": "[encoded data removed]",
      "text/plain": [
       "<Figure size 648x216 with 3 Axes>"
      ]
     },
     "metadata": {
      "needs_background": "light"
     },
     "output_type": "display_data"
    }
   ],
   "source": [
    "f, (ax1, ax2,ax3) = plt.subplots(1, 3, sharey=True,figsize=(9, 3))\n",
    "ax1.imshow(WADAM[0][:,0].reshape(72,72), cmap='copper')\n",
    "ax2.imshow(WADAM[0][:,1].reshape(72,72), cmap='copper')\n",
    "ax3.imshow(WADAM[0][:,2].reshape(72,72), cmap='copper')\n",
    "\n",
    "plt.show()"
   ]
  },
  {
   "cell_type": "markdown",
   "metadata": {},
   "source": [
    "## Classification with convolutional network"
   ]
  },
  {
   "cell_type": "markdown",
   "metadata": {},
   "source": [
    "The last neural network is a bit too simple. We try to complexify it using convolutionnal architecture. "
   ]
  },
  {
   "cell_type": "code",
   "execution_count": 8,
   "metadata": {},
   "outputs": [
    {
     "name": "stdout",
     "output_type": "stream",
     "text": [
      "Creating data:\n",
      "Creating data:\n",
      "(600, 5184)\n",
      "(600, 72, 72, 1)\n",
      "Train on 480 samples, validate on 120 samples\n",
      "Epoch 1/50\n",
      "480/480 [==============================] - 2s 4ms/step - loss: 1.1051 - acc: 0.3854 - val_loss: 1.0257 - val_acc: 0.4917\n",
      "Epoch 2/50\n",
      "480/480 [==============================] - 2s 4ms/step - loss: 0.9882 - acc: 0.5521 - val_loss: 0.9357 - val_acc: 0.5750\n",
      "Epoch 3/50\n",
      "480/480 [==============================] - 2s 4ms/step - loss: 0.8963 - acc: 0.6417 - val_loss: 0.8973 - val_acc: 0.5333\n",
      "Epoch 4/50\n",
      "480/480 [==============================] - 2s 4ms/step - loss: 0.8259 - acc: 0.6562 - val_loss: 0.8661 - val_acc: 0.5750\n",
      "Epoch 5/50\n",
      "480/480 [==============================] - 2s 4ms/step - loss: 0.7527 - acc: 0.7083 - val_loss: 0.8637 - val_acc: 0.5417\n",
      "Epoch 6/50\n",
      "480/480 [==============================] - 2s 3ms/step - loss: 0.7143 - acc: 0.7146 - val_loss: 0.7516 - val_acc: 0.6667\n",
      "Epoch 7/50\n",
      "480/480 [==============================] - 2s 3ms/step - loss: 0.6813 - acc: 0.7208 - val_loss: 0.7501 - val_acc: 0.6833\n",
      "Epoch 8/50\n",
      "480/480 [==============================] - 2s 4ms/step - loss: 0.6435 - acc: 0.7875 - val_loss: 0.7526 - val_acc: 0.7167\n",
      "Epoch 9/50\n",
      "480/480 [==============================] - 2s 4ms/step - loss: 0.6103 - acc: 0.7729 - val_loss: 0.7209 - val_acc: 0.7250\n",
      "Epoch 10/50\n",
      "480/480 [==============================] - 2s 4ms/step - loss: 0.5780 - acc: 0.8083 - val_loss: 0.7381 - val_acc: 0.6667\n",
      "Epoch 11/50\n",
      "480/480 [==============================] - 2s 4ms/step - loss: 0.5507 - acc: 0.8042 - val_loss: 0.7292 - val_acc: 0.7000\n",
      "Epoch 12/50\n",
      "480/480 [==============================] - 2s 4ms/step - loss: 0.5340 - acc: 0.8208 - val_loss: 0.7014 - val_acc: 0.7417\n",
      "Epoch 13/50\n",
      "480/480 [==============================] - 2s 4ms/step - loss: 0.5120 - acc: 0.8271 - val_loss: 0.6778 - val_acc: 0.6917\n",
      "Epoch 14/50\n",
      "480/480 [==============================] - 2s 4ms/step - loss: 0.5011 - acc: 0.8271 - val_loss: 0.6960 - val_acc: 0.7500\n",
      "Epoch 15/50\n",
      "480/480 [==============================] - 2s 4ms/step - loss: 0.4741 - acc: 0.8521 - val_loss: 0.6907 - val_acc: 0.7083\n",
      "Epoch 16/50\n",
      "480/480 [==============================] - 2s 4ms/step - loss: 0.4552 - acc: 0.8667 - val_loss: 0.6628 - val_acc: 0.7083\n",
      "Epoch 17/50\n",
      "480/480 [==============================] - 2s 4ms/step - loss: 0.4428 - acc: 0.8771 - val_loss: 0.6709 - val_acc: 0.7500\n",
      "Epoch 18/50\n",
      "480/480 [==============================] - 2s 5ms/step - loss: 0.4393 - acc: 0.8479 - val_loss: 0.6446 - val_acc: 0.7250\n",
      "Epoch 19/50\n",
      "480/480 [==============================] - 2s 4ms/step - loss: 0.4440 - acc: 0.8375 - val_loss: 0.6455 - val_acc: 0.7333\n",
      "Epoch 20/50\n",
      "480/480 [==============================] - 2s 4ms/step - loss: 0.4134 - acc: 0.8812 - val_loss: 0.6524 - val_acc: 0.7250\n",
      "Epoch 21/50\n",
      "480/480 [==============================] - 2s 4ms/step - loss: 0.3868 - acc: 0.8958 - val_loss: 0.7912 - val_acc: 0.6333\n",
      "Epoch 22/50\n",
      "480/480 [==============================] - 2s 4ms/step - loss: 0.4140 - acc: 0.8438 - val_loss: 0.7004 - val_acc: 0.7333\n",
      "Epoch 23/50\n",
      "480/480 [==============================] - 2s 5ms/step - loss: 0.3771 - acc: 0.8875 - val_loss: 0.6679 - val_acc: 0.7333\n",
      "Epoch 24/50\n",
      "480/480 [==============================] - 2s 5ms/step - loss: 0.3551 - acc: 0.9187 - val_loss: 0.7231 - val_acc: 0.7167\n",
      "Epoch 25/50\n",
      "480/480 [==============================] - 2s 4ms/step - loss: 0.3535 - acc: 0.8958 - val_loss: 0.6557 - val_acc: 0.7667\n",
      "Epoch 26/50\n",
      "480/480 [==============================] - 2s 4ms/step - loss: 0.3347 - acc: 0.9104 - val_loss: 0.6649 - val_acc: 0.7583\n",
      "Epoch 27/50\n",
      "480/480 [==============================] - 2s 4ms/step - loss: 0.3265 - acc: 0.9271 - val_loss: 0.6352 - val_acc: 0.7083\n",
      "Epoch 28/50\n",
      "480/480 [==============================] - 2s 4ms/step - loss: 0.3393 - acc: 0.8917 - val_loss: 0.6408 - val_acc: 0.6917\n",
      "Epoch 29/50\n",
      "480/480 [==============================] - 2s 4ms/step - loss: 0.3304 - acc: 0.8812 - val_loss: 0.6282 - val_acc: 0.7083\n",
      "Epoch 30/50\n",
      "480/480 [==============================] - 2s 4ms/step - loss: 0.3192 - acc: 0.9062 - val_loss: 0.6675 - val_acc: 0.7583\n",
      "Epoch 31/50\n",
      "480/480 [==============================] - 2s 4ms/step - loss: 0.3063 - acc: 0.9208 - val_loss: 0.6451 - val_acc: 0.7583\n",
      "Epoch 32/50\n",
      "480/480 [==============================] - 2s 4ms/step - loss: 0.2970 - acc: 0.9208 - val_loss: 0.6282 - val_acc: 0.6917\n",
      "Epoch 33/50\n",
      "480/480 [==============================] - 2s 4ms/step - loss: 0.2741 - acc: 0.9354 - val_loss: 0.6657 - val_acc: 0.7167\n",
      "Epoch 34/50\n",
      "480/480 [==============================] - 2s 4ms/step - loss: 0.2688 - acc: 0.9396 - val_loss: 0.6450 - val_acc: 0.7583\n",
      "Epoch 35/50\n",
      "480/480 [==============================] - 2s 4ms/step - loss: 0.2606 - acc: 0.9375 - val_loss: 0.6302 - val_acc: 0.7000\n",
      "Epoch 36/50\n",
      "480/480 [==============================] - 2s 4ms/step - loss: 0.2439 - acc: 0.9437 - val_loss: 0.6322 - val_acc: 0.7083\n",
      "Epoch 37/50\n",
      "480/480 [==============================] - 2s 4ms/step - loss: 0.2608 - acc: 0.9271 - val_loss: 0.6373 - val_acc: 0.7417\n",
      "Epoch 38/50\n",
      "480/480 [==============================] - 2s 4ms/step - loss: 0.2541 - acc: 0.9375 - val_loss: 0.6409 - val_acc: 0.7500\n",
      "Epoch 39/50\n",
      "480/480 [==============================] - 2s 4ms/step - loss: 0.2346 - acc: 0.9500 - val_loss: 0.6396 - val_acc: 0.7417\n",
      "Epoch 40/50\n",
      "480/480 [==============================] - 2s 4ms/step - loss: 0.2374 - acc: 0.9521 - val_loss: 0.6308 - val_acc: 0.7083\n",
      "Epoch 41/50\n",
      "480/480 [==============================] - 2s 4ms/step - loss: 0.2272 - acc: 0.9521 - val_loss: 0.6382 - val_acc: 0.7167\n",
      "Epoch 42/50\n",
      "480/480 [==============================] - 2s 4ms/step - loss: 0.2208 - acc: 0.9542 - val_loss: 0.6338 - val_acc: 0.7417\n",
      "Epoch 43/50\n",
      "480/480 [==============================] - 2s 4ms/step - loss: 0.2092 - acc: 0.9563 - val_loss: 0.6424 - val_acc: 0.7500\n",
      "Epoch 44/50\n",
      "480/480 [==============================] - 2s 4ms/step - loss: 0.1997 - acc: 0.9625 - val_loss: 0.6643 - val_acc: 0.7333\n",
      "Epoch 45/50\n",
      "480/480 [==============================] - 2s 4ms/step - loss: 0.1956 - acc: 0.9646 - val_loss: 0.6409 - val_acc: 0.7083\n",
      "Epoch 46/50\n",
      "480/480 [==============================] - 2s 4ms/step - loss: 0.2000 - acc: 0.9604 - val_loss: 0.6435 - val_acc: 0.7167\n",
      "Epoch 47/50\n",
      "480/480 [==============================] - 2s 5ms/step - loss: 0.1939 - acc: 0.9646 - val_loss: 0.6457 - val_acc: 0.7167\n",
      "Epoch 48/50\n",
      "480/480 [==============================] - 2s 5ms/step - loss: 0.1851 - acc: 0.9667 - val_loss: 0.6674 - val_acc: 0.7167\n",
      "Epoch 49/50\n",
      "480/480 [==============================] - 2s 5ms/step - loss: 0.1927 - acc: 0.9521 - val_loss: 0.7273 - val_acc: 0.7250\n",
      "Epoch 50/50\n",
      "480/480 [==============================] - 2s 4ms/step - loss: 0.1786 - acc: 0.9646 - val_loss: 0.6595 - val_acc: 0.7333\n"
     ]
    },
    {
     "data": {
      "text/plain": [
       "<keras.callbacks.History at 0x1b8069944a8>"
      ]
     },
     "execution_count": 8,
     "metadata": {},
     "output_type": "execute_result"
    }
   ],
   "source": [
    "[X_train, Y_train] = generate_dataset_classification(600, 20, True)\n",
    "[X_test, Y_test] = generate_test_set_classification()\n",
    "print(X_train.shape)\n",
    "X_train = X_train.reshape(X_train.shape[0], 72, 72, 1) \n",
    "print(X_train.shape)\n",
    "X_test = X_test.reshape(X_test.shape[0], 72, 72, 1)\n",
    "Y_train = np_utils.to_categorical(Y_train, 3) ### 3 classes \n",
    "\n",
    "def modele_conv():\n",
    "    from keras.models import Sequential\n",
    "    from keras.layers import Conv2D, MaxPooling2D\n",
    "\n",
    "    model = Sequential() \n",
    "    model.add(Conv2D(16, kernel_size = (5, 5), strides =(1,1), padding = 'same',  activation='relu', input_shape=(72, 72,1 )))\n",
    "    model.add(MaxPooling2D(pool_size=(2, 2),strides = (2,2)))\n",
    "    \n",
    "    from keras.layers import Dropout \n",
    "    model.add(Dropout(0.5))\n",
    "\n",
    "    from keras.layers import Flatten\n",
    "    model.add(Flatten())\n",
    "\n",
    "    from keras.layers import Dense \n",
    "    model.add(Dense(3, activation = 'softmax'))\n",
    "\n",
    "    return model\n",
    "\n",
    "model = modele_conv()\n",
    "\n",
    "epoch = 50\n",
    "lr = 0.0005\n",
    "decay = lr / epoch\n",
    "split = 0.2\n",
    "\n",
    "from keras.optimizers import Adam, SGD\n",
    "sgd = SGD(lr=0.0005, decay=1e-6, momentum=0.9, nesterov=True)\n",
    "adam=Adam(lr=lr, decay = decay)\n",
    "crssent ='categorical_crossentropy'\n",
    "mse = 'mean_squared_error'\n",
    "model.compile(loss=crssent, optimizer=adam, metrics=['accuracy']) \n",
    "model.fit(X_train, Y_train, batch_size=32, epochs=epoch,validation_split=split, verbose=1)"
   ]
  },
  {
   "cell_type": "markdown",
   "metadata": {},
   "source": [
    "On arrive a une accuracy de 98%."
   ]
  },
  {
   "cell_type": "code",
   "execution_count": 9,
   "metadata": {},
   "outputs": [
    {
     "name": "stdout",
     "output_type": "stream",
     "text": [
      "600/600 [==============================] - 1s 2ms/step\n",
      "300/300 [==============================] - 1s 2ms/step\n",
      "The train loss=  [0.25199134429295855, 0.9400000007947286]\n",
      "The test  loss=  [0.6970691935221354, 0.7266666666666667]\n"
     ]
    }
   ],
   "source": [
    "score_train= model.evaluate(X_train, Y_train)\n",
    "\n",
    "score_test= model.evaluate(X_test, Y_test)\n",
    "print(\"The train loss= \",score_train)\n",
    "print(\"The test  loss= \",score_test)"
   ]
  },
  {
   "cell_type": "markdown",
   "metadata": {},
   "source": [
    "## A regression Task"
   ]
  },
  {
   "cell_type": "markdown",
   "metadata": {},
   "source": [
    "The goal now is to predict the image locations of the vertices of a triangle, given an image of this triangle. We quickly encounter a problem because the vertices of the triangle have random locations. We need to sort them (such that we can say verticle 1, vertice 2 .. )"
   ]
  },
  {
   "cell_type": "code",
   "execution_count": 27,
   "metadata": {},
   "outputs": [
    {
     "name": "stdout",
     "output_type": "stream",
     "text": [
      "[0.94133439 0.93818117 0.67661723 0.27556678 0.36340393 0.33217252]\n"
     ]
    },
    {
     "data": {
      "image/png": "[encoded data removed]",
      "text/plain": [
       "<Figure size 360x360 with 1 Axes>"
      ]
     },
     "metadata": {
      "needs_background": "light"
     },
     "output_type": "display_data"
    }
   ],
   "source": [
    "## Generating Regression Data\n",
    "[X_train, Y_train] = generate_dataset_regression(300, 20)\n",
    "[X_test, Y_test] = generate_test_set_regression()\n",
    "print(Y_test[0])\n",
    "visualize_prediction(X_train[0], Y_train[0])"
   ]
  },
  {
   "cell_type": "code",
   "execution_count": 11,
   "metadata": {},
   "outputs": [],
   "source": [
    "X_train = X_train.reshape(X_train.shape[0], 72,72,1)\n",
    "Y_train_reg_ = Y_train.reshape(Y_train.shape[0], 3,2)\n",
    "Y_train_reg_ =np.array([i[i[:,0].argsort()] for i in Y_train_reg_]) \n",
    "Y_train_reg_ = Y_train_reg_.reshape(Y_train_reg_.shape[0], 6,)"
   ]
  },
  {
   "cell_type": "code",
   "execution_count": 18,
   "metadata": {},
   "outputs": [
    {
     "name": "stdout",
     "output_type": "stream",
     "text": [
      "[[0.97971582 0.98408924 0.9952138  ... 0.96632057 0.96371418 0.99983144]\n",
      " [0.980205   0.9494385  0.99064977 ... 0.98630824 0.94669241 0.95031914]\n",
      " [0.97088494 0.99175157 0.94548286 ... 0.95201227 0.98255148 0.96649708]\n",
      " ...\n",
      " [0.9523247  0.97840249 0.93896908 ... 0.98016863 0.99638629 0.95958723]\n",
      " [0.93346973 0.95200522 0.93995049 ... 0.95783797 0.99963013 0.96107242]\n",
      " [0.98362736 0.97104303 0.96238696 ... 0.95144482 0.95233239 0.99051286]]\n"
     ]
    }
   ],
   "source": []
  },
  {
   "cell_type": "code",
   "execution_count": 19,
   "metadata": {},
   "outputs": [
    {
     "name": "stdout",
     "output_type": "stream",
     "text": [
      "(300, 5184)\n"
     ]
    }
   ],
   "source": [
    "print(X_test.shape)"
   ]
  },
  {
   "cell_type": "markdown",
   "metadata": {},
   "source": [
    "We use a similar convolutional architecture and we get the following (more complex) model"
   ]
  },
  {
   "cell_type": "code",
   "execution_count": 14,
   "metadata": {},
   "outputs": [],
   "source": [
    "from keras.layers import Dense, Activation\n",
    "from keras.models import Sequential\n",
    "from keras.layers import Conv2D, MaxPooling2D\n",
    "from keras.layers import Flatten\n",
    "from keras.layers import Dropout\n",
    "from keras.layers.normalization import BatchNormalization\n",
    "from sklearn.model_selection import GridSearchCV\n",
    "from keras.wrappers.scikit_learn import KerasClassifier\n",
    "import itertools\n",
    "from keras.optimizers import Adam,SGD\n",
    "\n",
    "\n",
    "def model_regressor():\n",
    "    model = Sequential()\n",
    "    nb_neurons = 16\n",
    "    \n",
    "    model.add(Conv2D(nb_neurons, kernel_size = (5, 5), strides =(1,1), padding ='valid', input_shape=(72, 72, 1)))\n",
    "    model.add(BatchNormalization())\n",
    "    model.add(Activation('relu'))\n",
    "    \n",
    "    model.add(Conv2D(nb_neurons, kernel_size = (5, 5), strides =(1,1), padding ='valid'))\n",
    "    model.add(MaxPooling2D(pool_size=(2, 2),strides = (2,2)))\n",
    "    model.add(BatchNormalization())\n",
    "    model.add(Dropout(0.5))\n",
    "    model.add(Activation('relu'))\n",
    "    \n",
    "    model.add(Conv2D(nb_neurons, kernel_size = (5, 5), strides =(1,1), padding ='valid'))\n",
    "    model.add(MaxPooling2D(pool_size=(2, 2),strides = (2,2)))\n",
    "    model.add(Dropout(0.5))\n",
    "    model.add(BatchNormalization())\n",
    "    model.add(Activation('relu'))\n",
    "    \n",
    "    \n",
    "    model.add(Flatten()) \n",
    "    model.add(Dense(256))\n",
    "    model.add(BatchNormalization())\n",
    "    model.add(Activation('relu'))\n",
    "\n",
    "\n",
    "    model.add(Dense(128))\n",
    "    model.add(BatchNormalization())\n",
    "    model.add(Activation('relu'))\n",
    "   \n",
    "    model.add(Dense(6))\n",
    "    model.add(BatchNormalization())\n",
    "    model.add(Activation('linear'))\n",
    "\n",
    "    return model"
   ]
  },
  {
   "cell_type": "code",
   "execution_count": 15,
   "metadata": {},
   "outputs": [
    {
     "name": "stdout",
     "output_type": "stream",
     "text": [
      "Train on 210 samples, validate on 90 samples\n",
      "Epoch 1/50\n",
      "210/210 [==============================] - 7s 35ms/step - loss: 1.2198 - acc: 0.2286 - val_loss: 1.1793 - val_acc: 0.1889\n",
      "Epoch 2/50\n",
      "210/210 [==============================] - 5s 26ms/step - loss: 1.1204 - acc: 0.2952 - val_loss: 1.1006 - val_acc: 0.2222\n",
      "Epoch 3/50\n",
      "210/210 [==============================] - 5s 25ms/step - loss: 1.1079 - acc: 0.2810 - val_loss: 1.0572 - val_acc: 0.2222\n",
      "Epoch 4/50\n",
      "210/210 [==============================] - 5s 25ms/step - loss: 1.1163 - acc: 0.2381 - val_loss: 1.0286 - val_acc: 0.2111\n",
      "Epoch 5/50\n",
      "210/210 [==============================] - 5s 25ms/step - loss: 1.1069 - acc: 0.2571 - val_loss: 0.9938 - val_acc: 0.2333\n",
      "Epoch 6/50\n",
      "210/210 [==============================] - 5s 26ms/step - loss: 1.1011 - acc: 0.2429 - val_loss: 0.9654 - val_acc: 0.2333\n",
      "Epoch 7/50\n",
      "210/210 [==============================] - 5s 25ms/step - loss: 1.1078 - acc: 0.2238 - val_loss: 0.9568 - val_acc: 0.2222\n",
      "Epoch 8/50\n",
      "210/210 [==============================] - 6s 26ms/step - loss: 1.1021 - acc: 0.3000 - val_loss: 0.9549 - val_acc: 0.2222\n",
      "Epoch 9/50\n",
      "210/210 [==============================] - 5s 25ms/step - loss: 1.0903 - acc: 0.2524 - val_loss: 0.9417 - val_acc: 0.2222\n",
      "Epoch 10/50\n",
      "210/210 [==============================] - 6s 26ms/step - loss: 1.0848 - acc: 0.2381 - val_loss: 0.9374 - val_acc: 0.2222\n",
      "Epoch 11/50\n",
      "210/210 [==============================] - 6s 28ms/step - loss: 1.0785 - acc: 0.2667 - val_loss: 0.9277 - val_acc: 0.2222\n",
      "Epoch 12/50\n",
      "210/210 [==============================] - 6s 30ms/step - loss: 1.0939 - acc: 0.3095 - val_loss: 0.9129 - val_acc: 0.2333\n",
      "Epoch 13/50\n",
      "210/210 [==============================] - 6s 29ms/step - loss: 1.0727 - acc: 0.2524 - val_loss: 0.9010 - val_acc: 0.2333\n",
      "Epoch 14/50\n",
      "210/210 [==============================] - 6s 28ms/step - loss: 1.0929 - acc: 0.2524 - val_loss: 0.8917 - val_acc: 0.2222\n",
      "Epoch 15/50\n",
      "210/210 [==============================] - 5s 26ms/step - loss: 1.0821 - acc: 0.3048 - val_loss: 0.8871 - val_acc: 0.2333\n",
      "Epoch 16/50\n",
      "210/210 [==============================] - 5s 26ms/step - loss: 1.0782 - acc: 0.3048 - val_loss: 0.8863 - val_acc: 0.2333\n",
      "Epoch 17/50\n",
      "210/210 [==============================] - 6s 28ms/step - loss: 1.0662 - acc: 0.2952 - val_loss: 0.8838 - val_acc: 0.2333\n",
      "Epoch 18/50\n",
      "210/210 [==============================] - 6s 28ms/step - loss: 1.0693 - acc: 0.2857 - val_loss: 0.8813 - val_acc: 0.2222\n",
      "Epoch 19/50\n",
      "210/210 [==============================] - 5s 26ms/step - loss: 1.0765 - acc: 0.3095 - val_loss: 0.8804 - val_acc: 0.2222\n",
      "Epoch 20/50\n",
      "210/210 [==============================] - 5s 26ms/step - loss: 1.0805 - acc: 0.2619 - val_loss: 0.8709 - val_acc: 0.2222\n",
      "Epoch 21/50\n",
      "210/210 [==============================] - 5s 26ms/step - loss: 1.0666 - acc: 0.2762 - val_loss: 0.8634 - val_acc: 0.2222\n",
      "Epoch 22/50\n",
      "210/210 [==============================] - 5s 25ms/step - loss: 1.0717 - acc: 0.2762 - val_loss: 0.8591 - val_acc: 0.2222\n",
      "Epoch 23/50\n",
      "210/210 [==============================] - 6s 26ms/step - loss: 1.0803 - acc: 0.2952 - val_loss: 0.8554 - val_acc: 0.2222\n",
      "Epoch 24/50\n",
      "210/210 [==============================] - 6s 29ms/step - loss: 1.0652 - acc: 0.2714 - val_loss: 0.8475 - val_acc: 0.2222\n",
      "Epoch 25/50\n",
      "210/210 [==============================] - 6s 29ms/step - loss: 1.0617 - acc: 0.2810 - val_loss: 0.8443 - val_acc: 0.2222\n",
      "Epoch 26/50\n",
      "210/210 [==============================] - 6s 28ms/step - loss: 1.0725 - acc: 0.3000 - val_loss: 0.8435 - val_acc: 0.2222\n",
      "Epoch 27/50\n",
      "210/210 [==============================] - 6s 28ms/step - loss: 1.0807 - acc: 0.2524 - val_loss: 0.8425 - val_acc: 0.2222\n",
      "Epoch 28/50\n",
      "210/210 [==============================] - 5s 25ms/step - loss: 1.0630 - acc: 0.3286 - val_loss: 0.8381 - val_acc: 0.2222\n",
      "Epoch 29/50\n",
      "210/210 [==============================] - 6s 27ms/step - loss: 1.0670 - acc: 0.2905 - val_loss: 0.8373 - val_acc: 0.2222\n",
      "Epoch 30/50\n",
      "210/210 [==============================] - 6s 29ms/step - loss: 1.0675 - acc: 0.3238 - val_loss: 0.8311 - val_acc: 0.2222\n",
      "Epoch 31/50\n",
      "210/210 [==============================] - 7s 31ms/step - loss: 1.0875 - acc: 0.2333 - val_loss: 0.8267 - val_acc: 0.2222\n",
      "Epoch 32/50\n",
      "210/210 [==============================] - 6s 31ms/step - loss: 1.0671 - acc: 0.3143 - val_loss: 0.8219 - val_acc: 0.2222\n",
      "Epoch 33/50\n",
      "210/210 [==============================] - 7s 32ms/step - loss: 1.0690 - acc: 0.2714 - val_loss: 0.8225 - val_acc: 0.2222\n",
      "Epoch 34/50\n",
      "210/210 [==============================] - 7s 32ms/step - loss: 1.0572 - acc: 0.2905 - val_loss: 0.8195 - val_acc: 0.2222\n",
      "Epoch 35/50\n",
      "210/210 [==============================] - 5s 25ms/step - loss: 1.0640 - acc: 0.3238 - val_loss: 0.8195 - val_acc: 0.2222\n",
      "Epoch 36/50\n",
      "210/210 [==============================] - 5s 25ms/step - loss: 1.0780 - acc: 0.3000 - val_loss: 0.8124 - val_acc: 0.2222\n",
      "Epoch 37/50\n",
      "210/210 [==============================] - 5s 25ms/step - loss: 1.0700 - acc: 0.2571 - val_loss: 0.8096 - val_acc: 0.2222\n",
      "Epoch 38/50\n",
      "210/210 [==============================] - 5s 25ms/step - loss: 1.0668 - acc: 0.3190 - val_loss: 0.8115 - val_acc: 0.2222\n",
      "Epoch 39/50\n",
      "210/210 [==============================] - 5s 24ms/step - loss: 1.0573 - acc: 0.2762 - val_loss: 0.8120 - val_acc: 0.2222\n",
      "Epoch 40/50\n",
      "210/210 [==============================] - 5s 25ms/step - loss: 1.0570 - acc: 0.3190 - val_loss: 0.8136 - val_acc: 0.2222\n",
      "Epoch 41/50\n",
      "210/210 [==============================] - 5s 25ms/step - loss: 1.0487 - acc: 0.2429 - val_loss: 0.8096 - val_acc: 0.2222\n",
      "Epoch 42/50\n",
      "210/210 [==============================] - 5s 24ms/step - loss: 1.0563 - acc: 0.2476 - val_loss: 0.8084 - val_acc: 0.2222\n",
      "Epoch 43/50\n",
      "210/210 [==============================] - 5s 25ms/step - loss: 1.0545 - acc: 0.2857 - val_loss: 0.8047 - val_acc: 0.2222\n",
      "Epoch 44/50\n",
      "210/210 [==============================] - 5s 25ms/step - loss: 1.0636 - acc: 0.2952 - val_loss: 0.8008 - val_acc: 0.2222\n",
      "Epoch 45/50\n",
      "210/210 [==============================] - 5s 25ms/step - loss: 1.0570 - acc: 0.2810 - val_loss: 0.8003 - val_acc: 0.2222\n",
      "Epoch 46/50\n",
      "210/210 [==============================] - 5s 25ms/step - loss: 1.0608 - acc: 0.2476 - val_loss: 0.7996 - val_acc: 0.2222\n",
      "Epoch 47/50\n",
      "210/210 [==============================] - 5s 26ms/step - loss: 1.0410 - acc: 0.3143 - val_loss: 0.7983 - val_acc: 0.2222\n",
      "Epoch 48/50\n",
      "210/210 [==============================] - 5s 25ms/step - loss: 1.0630 - acc: 0.2619 - val_loss: 0.7917 - val_acc: 0.2222\n",
      "Epoch 49/50\n",
      "210/210 [==============================] - 5s 24ms/step - loss: 1.0591 - acc: 0.3095 - val_loss: 0.7931 - val_acc: 0.2222\n",
      "Epoch 50/50\n",
      "210/210 [==============================] - 5s 25ms/step - loss: 1.0583 - acc: 0.3381 - val_loss: 0.7930 - val_acc: 0.2222\n"
     ]
    },
    {
     "data": {
      "text/plain": [
       "<keras.callbacks.History at 0x1b80e542828>"
      ]
     },
     "execution_count": 15,
     "metadata": {},
     "output_type": "execute_result"
    }
   ],
   "source": [
    "model = model_regressor()\n",
    "\n",
    "epoch = 50\n",
    "lr = 0.0005\n",
    "decay = lr / epoch\n",
    "from keras.optimizers import Adam\n",
    "adam=Adam(lr=lr, decay = 0.9)\n",
    "mse = 'mean_squared_error'\n",
    "model.compile(loss=mse, optimizer=adam, metrics=['accuracy']) \n",
    "model.fit(X_train, Y_train, batch_size=32, epochs=epoch,validation_split=0.3)"
   ]
  },
  {
   "cell_type": "code",
   "execution_count": 25,
   "metadata": {},
   "outputs": [
    {
     "name": "stdout",
     "output_type": "stream",
     "text": [
      "[ 0.58422965 -0.8762784   1.3552525  -0.15072483 -0.19482136 -0.49705052]\n"
     ]
    },
    {
     "data": {
      "image/png": "[encoded data removed]",
      "text/plain": [
       "<Figure size 360x360 with 1 Axes>"
      ]
     },
     "metadata": {
      "needs_background": "light"
     },
     "output_type": "display_data"
    }
   ],
   "source": [
    "X_test = X_test.reshape(X_train.shape[0], 72,72,1)\n",
    "\n",
    "Y_pred = model.predict(X_test)\n",
    "print(Y_pred[0])\n",
    "visualize_prediction(X_test[0], Y_pred[0])"
   ]
  },
  {
   "cell_type": "markdown",
   "metadata": {},
   "source": [
    "# Image Denoising"
   ]
  },
  {
   "cell_type": "markdown",
   "metadata": {},
   "source": [
    "Finally, we tackle the topic of image denoising using an U net architecture. We first write a function code that generates images with/without noise. Then we use them in an hourglass CNN network to perform the denoising."
   ]
  },
  {
   "cell_type": "code",
   "execution_count": 28,
   "metadata": {},
   "outputs": [],
   "source": [
    "def generate_a_triangle_noise(noise, b):\n",
    "    figsize = 1.0\n",
    "    if b:\n",
    "        X = np.random.random(3)\n",
    "        Y = np.random.random(3)\n",
    "    else:\n",
    "        size = (0.3 + 0.7 * np.random.random())*figsize/2\n",
    "        mid = figsize/2\n",
    "        X = (mid, mid+size, mid-size)\n",
    "        Y = (mid+size, mid-size, mid-size)\n",
    "    imdata = generate_a_drawing(figsize, X, Y, 0.0)\n",
    "    imdata_noise =  generate_a_drawing(figsize, X, Y, noise)\n",
    "    return [imdata,imdata_noise]\n",
    "\n",
    "def generate_trigdata_denoise(nb_samples,noise_d, noise=0.0):\n",
    "    # Getting im_size:\n",
    "    im_size = generate_a_triangle()[0].shape[0]\n",
    "    X = np.zeros([nb_samples,im_size])\n",
    "    Y = np.zeros([nb_samples, im_size])\n",
    "    for i in range(nb_samples):\n",
    "        [X[i], Y[i]] = generate_a_triangle_noise(noise_d, True)\n",
    "    X = (X + noise) / (255 + 2 * noise)\n",
    "    return [X, Y]"
   ]
  },
  {
   "cell_type": "code",
   "execution_count": 29,
   "metadata": {},
   "outputs": [],
   "source": [
    "[X_train,Y_train] =generate_trigdata_denoise(300,20)\n",
    "X_train=X_train.reshape(X_train.shape[0] ,72,72,1 )\n",
    "Y_train=Y_train.reshape(X_train.shape[0] ,72,72,1 )"
   ]
  },
  {
   "cell_type": "code",
   "execution_count": 30,
   "metadata": {},
   "outputs": [
    {
     "name": "stdout",
     "output_type": "stream",
     "text": [
      "Train on 240 samples, validate on 60 samples\n",
      "Epoch 1/50\n",
      "240/240 [==============================] - 10s 43ms/step - loss: 66287.0146 - val_loss: 65913.7057\n",
      "Epoch 2/50\n",
      "240/240 [==============================] - 10s 40ms/step - loss: 66286.0005 - val_loss: 65913.3156\n",
      "Epoch 3/50\n",
      "240/240 [==============================] - 10s 41ms/step - loss: 66285.5760 - val_loss: 65913.0740\n",
      "Epoch 4/50\n",
      "240/240 [==============================] - 10s 42ms/step - loss: 66285.2792 - val_loss: 65912.9099\n",
      "Epoch 5/50\n",
      "240/240 [==============================] - 10s 43ms/step - loss: 66285.0318 - val_loss: 65912.7771\n",
      "Epoch 6/50\n",
      "240/240 [==============================] - 10s 42ms/step - loss: 66284.8385 - val_loss: 65912.6677\n",
      "Epoch 7/50\n",
      "240/240 [==============================] - 10s 42ms/step - loss: 66284.7047 - val_loss: 65912.5781\n",
      "Epoch 8/50\n",
      "240/240 [==============================] - 11s 45ms/step - loss: 66284.6177 - val_loss: 65912.4927\n",
      "Epoch 9/50\n",
      "240/240 [==============================] - 13s 55ms/step - loss: 66284.4984 - val_loss: 65912.4182\n",
      "Epoch 10/50\n",
      "240/240 [==============================] - 11s 45ms/step - loss: 66284.4495 - val_loss: 65912.3557\n",
      "Epoch 11/50\n",
      "240/240 [==============================] - 12s 50ms/step - loss: 66284.3250 - val_loss: 65912.2932\n",
      "Epoch 12/50\n",
      "240/240 [==============================] - 12s 51ms/step - loss: 66284.2792 - val_loss: 65912.2427\n",
      "Epoch 13/50\n",
      "240/240 [==============================] - 13s 53ms/step - loss: 66284.1604 - val_loss: 65912.1953\n",
      "Epoch 14/50\n",
      "240/240 [==============================] - 11s 45ms/step - loss: 66284.0938 - val_loss: 65912.1448\n",
      "Epoch 15/50\n",
      "240/240 [==============================] - 10s 42ms/step - loss: 66283.9859 - val_loss: 65912.1057\n",
      "Epoch 16/50\n",
      "240/240 [==============================] - 11s 46ms/step - loss: 66283.9771 - val_loss: 65912.0667\n",
      "Epoch 17/50\n",
      "240/240 [==============================] - 11s 46ms/step - loss: 66283.8990 - val_loss: 65912.0276\n",
      "Epoch 18/50\n",
      "240/240 [==============================] - 11s 46ms/step - loss: 66283.8724 - val_loss: 65911.9964\n",
      "Epoch 19/50\n",
      "240/240 [==============================] - 12s 48ms/step - loss: 66283.8646 - val_loss: 65911.9615\n",
      "Epoch 20/50\n",
      "240/240 [==============================] - 11s 46ms/step - loss: 66283.8109 - val_loss: 65911.9339\n",
      "Epoch 21/50\n",
      "240/240 [==============================] - 11s 45ms/step - loss: 66283.7490 - val_loss: 65911.8990\n",
      "Epoch 22/50\n",
      "240/240 [==============================] - 11s 45ms/step - loss: 66283.7057 - val_loss: 65911.8750\n",
      "Epoch 23/50\n",
      "240/240 [==============================] - 11s 45ms/step - loss: 66283.6604 - val_loss: 65911.8516\n",
      "Epoch 24/50\n",
      "240/240 [==============================] - 11s 48ms/step - loss: 66283.6307 - val_loss: 65911.8245\n",
      "Epoch 25/50\n",
      "240/240 [==============================] - 11s 44ms/step - loss: 66283.5917 - val_loss: 65911.7969\n",
      "Epoch 26/50\n",
      "240/240 [==============================] - 11s 45ms/step - loss: 66283.5714 - val_loss: 65911.7698\n",
      "Epoch 27/50\n",
      "240/240 [==============================] - 12s 50ms/step - loss: 66283.5344 - val_loss: 65911.7500\n",
      "Epoch 28/50\n",
      "240/240 [==============================] - 11s 45ms/step - loss: 66283.4734 - val_loss: 65911.7307\n",
      "Epoch 29/50\n",
      "240/240 [==============================] - 11s 44ms/step - loss: 66283.4771 - val_loss: 65911.7031\n",
      "Epoch 30/50\n",
      "240/240 [==============================] - 10s 43ms/step - loss: 66283.4271 - val_loss: 65911.6839\n",
      "Epoch 31/50\n",
      "240/240 [==============================] - 10s 43ms/step - loss: 66283.3823 - val_loss: 65911.6682\n",
      "Epoch 32/50\n",
      "240/240 [==============================] - 10s 43ms/step - loss: 66283.3536 - val_loss: 65911.6448\n",
      "Epoch 33/50\n",
      "240/240 [==============================] - 10s 44ms/step - loss: 66283.3062 - val_loss: 65911.6250\n",
      "Epoch 34/50\n",
      "240/240 [==============================] - 10s 43ms/step - loss: 66283.3130 - val_loss: 65911.6094\n",
      "Epoch 35/50\n",
      "240/240 [==============================] - 11s 44ms/step - loss: 66283.2911 - val_loss: 65911.5901\n",
      "Epoch 36/50\n",
      "240/240 [==============================] - 10s 42ms/step - loss: 66283.2318 - val_loss: 65911.5708\n",
      "Epoch 37/50\n",
      "240/240 [==============================] - 10s 42ms/step - loss: 66283.2125 - val_loss: 65911.5589\n",
      "Epoch 38/50\n",
      "240/240 [==============================] - 10s 43ms/step - loss: 66283.2115 - val_loss: 65911.5432\n",
      "Epoch 39/50\n",
      "240/240 [==============================] - 10s 42ms/step - loss: 66283.2026 - val_loss: 65911.5240\n",
      "Epoch 40/50\n",
      "240/240 [==============================] - 12s 50ms/step - loss: 66283.1755 - val_loss: 65911.5083\n",
      "Epoch 41/50\n",
      "240/240 [==============================] - 12s 51ms/step - loss: 66283.1552 - val_loss: 65911.5005\n",
      "Epoch 42/50\n",
      "240/240 [==============================] - 11s 45ms/step - loss: 66283.1318 - val_loss: 65911.4807\n",
      "Epoch 43/50\n",
      "240/240 [==============================] - 10s 42ms/step - loss: 66283.1318 - val_loss: 65911.4656\n",
      "Epoch 44/50\n",
      "240/240 [==============================] - 10s 42ms/step - loss: 66283.1151 - val_loss: 65911.4578\n",
      "Epoch 45/50\n",
      "240/240 [==============================] - 10s 42ms/step - loss: 66283.0492 - val_loss: 65911.4422\n",
      "Epoch 46/50\n",
      "240/240 [==============================] - 10s 42ms/step - loss: 66283.0599 - val_loss: 65911.4266\n",
      "Epoch 47/50\n",
      "240/240 [==============================] - 10s 42ms/step - loss: 66283.0242 - val_loss: 65911.4109\n",
      "Epoch 48/50\n",
      "240/240 [==============================] - 10s 43ms/step - loss: 66283.0372 - val_loss: 65911.4031\n",
      "Epoch 49/50\n",
      "240/240 [==============================] - 10s 43ms/step - loss: 66283.0099 - val_loss: 65911.3875\n",
      "Epoch 50/50\n",
      "240/240 [==============================] - 10s 43ms/step - loss: 66283.0052 - val_loss: 65911.3760\n"
     ]
    },
    {
     "data": {
      "text/plain": [
       "<keras.callbacks.History at 0x1b818090d30>"
      ]
     },
     "execution_count": 30,
     "metadata": {},
     "output_type": "execute_result"
    }
   ],
   "source": [
    "from keras.layers import Dense, Activation\n",
    "from keras.models import Sequential\n",
    "from keras.layers import Conv2D, MaxPooling2D, UpSampling2D, Conv2DTranspose\n",
    "from keras.layers import Flatten\n",
    "from keras.layers import Dropout\n",
    "from keras.layers.normalization import BatchNormalization\n",
    "from sklearn.model_selection import GridSearchCV\n",
    "from keras.wrappers.scikit_learn import KerasClassifier\n",
    "import itertools\n",
    "from keras.optimizers import Adam,SGD\n",
    "\n",
    "\n",
    "def hourglass_model():\n",
    "    autoencodeur = Sequential()\n",
    "\n",
    "    autoencodeur.add(Conv2D(16, (5, 5), activation='relu', input_shape=(72, 72, 1),padding='same'))\n",
    "    autoencodeur.add(MaxPooling2D(pool_size=(2, 2)))\n",
    "    autoencodeur.add(Dropout(0.25))\n",
    "\n",
    "    autoencodeur.add(Conv2D(32, (5, 5), activation='relu'))\n",
    "    autoencodeur.add(MaxPooling2D(pool_size=(2, 2)))\n",
    "    autoencodeur.add(Dropout(0.25))\n",
    "\n",
    "    autoencodeur.add(Conv2D(64, (5, 5), activation='relu',padding='same'))\n",
    "    autoencodeur.add(UpSampling2D((2, 2)))\n",
    "\n",
    "    autoencodeur.add(Conv2DTranspose(32, kernel_size =(5,5), strides=(1,1),activation='relu'))\n",
    "    autoencodeur.add(Dropout(0.25))\n",
    "    autoencodeur.add(UpSampling2D((2, 2)))\n",
    "\n",
    "    autoencodeur.add(Conv2D(16, (5, 5), activation='relu',padding='same'))\n",
    "\n",
    "    #autoencodeur.add(Conv2D(1, (3, 3), activation='relu' ,padding='same'))\n",
    "\n",
    "    autoencodeur.add(Conv2D(1, (1, 1), activation='sigmoid' ,padding='same'))\n",
    "    \n",
    "    return autoencodeur\n",
    "\n",
    "    \n",
    "\n",
    "autoencoder = hourglass_model()\n",
    "epoch = 50\n",
    "lr = 0.00001\n",
    "decay = lr / epoch\n",
    "split = 0.2\n",
    "from keras.optimizers import Adam\n",
    "adam=Adam(lr=lr, decay = 0.9)\n",
    "autoencoder.compile(loss='mean_squared_error', optimizer=adam)\n",
    "autoencoder.fit(X_train, Y_train, batch_size=32, epochs=epoch, validation_split=split )"
   ]
  },
  {
   "cell_type": "code",
   "execution_count": 33,
   "metadata": {},
   "outputs": [
    {
     "data": {
      "text/plain": [
       "<matplotlib.image.AxesImage at 0x1b8109d20b8>"
      ]
     },
     "execution_count": 33,
     "metadata": {},
     "output_type": "execute_result"
    },
    {
     "data": {
      "image/png": "[encoded data removed]",
      "text/plain": [
       "<Figure size 432x288 with 2 Axes>"
      ]
     },
     "metadata": {
      "needs_background": "light"
     },
     "output_type": "display_data"
    }
   ],
   "source": [
    "plt.subplot(131)\n",
    "plt.title('Initial')\n",
    "plt.imshow(X_train[0].reshape(72,72), cmap='gray')\n",
    "\n",
    "plt.subplot(132)\n",
    "plt.title('Result')\n",
    "plt.imshow(1-autoencoder.predict(X_train[0].reshape(1, 72,72,1)).reshape(72,72), cmap='gray')"
   ]
  }
 ],
 "metadata": {
  "kernelspec": {
   "display_name": "Python 3",
   "language": "python",
   "name": "python3"
  },
  "language_info": {
   "codemirror_mode": {
    "name": "ipython",
    "version": 3
   },
   "file_extension": ".py",
   "mimetype": "text/x-python",
   "name": "python",
   "nbconvert_exporter": "python",
   "pygments_lexer": "ipython3",
   "version": "3.6.7"
  }
 },
 "nbformat": 4,
 "nbformat_minor": 2
}
